{
  "cells": [],
  "metadata": {
    "colab": {
      "name": "intro_multimodal_use_cases.ipynb",
      "toc_visible": true,
      "provenance": []
    },
    "kernelspec": {
      "display_name": "Python 3",
      "name": "python3"
    }
  },
  "nbformat": 4,
  "nbformat_minor": 0
}